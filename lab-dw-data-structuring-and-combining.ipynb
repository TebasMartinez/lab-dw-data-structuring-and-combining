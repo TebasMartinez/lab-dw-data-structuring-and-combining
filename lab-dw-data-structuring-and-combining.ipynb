{
 "cells": [
  {
   "cell_type": "markdown",
   "id": "25d7736c-ba17-4aff-b6bb-66eba20fbf4e",
   "metadata": {
    "id": "25d7736c-ba17-4aff-b6bb-66eba20fbf4e"
   },
   "source": [
    "# Lab | Data Structuring and Combining Data"
   ]
  },
  {
   "cell_type": "markdown",
   "id": "a2cdfc70-44c8-478c-81e7-2bc43fdf4986",
   "metadata": {
    "id": "a2cdfc70-44c8-478c-81e7-2bc43fdf4986"
   },
   "source": [
    "## Challenge 1: Combining & Cleaning Data\n",
    "\n",
    "In this challenge, we will be working with the customer data from an insurance company, as we did in the two previous labs. The data can be found here:\n",
    "- https://raw.githubusercontent.com/data-bootcamp-v4/data/main/file1.csv\n",
    "\n",
    "But this time, we got new data, which can be found in the following 2 CSV files located at the links below.\n",
    "\n",
    "- https://raw.githubusercontent.com/data-bootcamp-v4/data/main/file2.csv\n",
    "- https://raw.githubusercontent.com/data-bootcamp-v4/data/main/file3.csv\n",
    "\n",
    "Note that you'll need to clean and format the new data.\n",
    "\n",
    "Observation:\n",
    "- One option is to first combine the three datasets and then apply the cleaning function to the new combined dataset\n",
    "- Another option would be to read the clean file you saved in the previous lab, and just clean the two new files and concatenate the three clean datasets"
   ]
  },
  {
   "cell_type": "code",
   "execution_count": 2,
   "id": "492d06e3-92c7-4105-ac72-536db98d3244",
   "metadata": {
    "id": "492d06e3-92c7-4105-ac72-536db98d3244"
   },
   "outputs": [],
   "source": [
    "import pandas as pd\n",
    "\n",
    "# Load the dataset\n",
    "url1 = 'https://raw.githubusercontent.com/data-bootcamp-v4/data/main/file1.csv'\n",
    "url2 = 'https://raw.githubusercontent.com/data-bootcamp-v4/data/main/file2.csv'\n",
    "url3 = 'https://raw.githubusercontent.com/data-bootcamp-v4/data/main/file3.csv'\n",
    "df1 = pd.read_csv(url1)\n",
    "df2 = pd.read_csv(url2)\n",
    "df3 = pd.read_csv(url3)"
   ]
  },
  {
   "cell_type": "code",
   "execution_count": 47,
   "id": "367bd889-599c-4534-8e67-799d8a39244b",
   "metadata": {},
   "outputs": [],
   "source": [
    "# Cleaning - adapted from functions I made for yesterday's lab\n",
    "\n",
    "import pandas as pd\n",
    "\n",
    "def cleandf(df):\n",
    "    df.columns = clean_columns(df)\n",
    "    df.gender = standardize_gender(df)\n",
    "    df.state = standardize_states(df)\n",
    "    df.education = standardize_education(df)\n",
    "    df.customer_lifetime_value = standardize_customer_lifetime_value(df)\n",
    "    df.vehicle_class = standardize_vehicle_class(df)\n",
    "    df.number_of_open_complaints = format_complaints(df)\n",
    "    df = clean_nulls(df)\n",
    "    df[df.select_dtypes(include='number').columns] = make_numerics_nums(df)\n",
    "    return df\n",
    "\n",
    "def open_doc(url):\n",
    "    return pd.read_csv(url)\n",
    "\n",
    "def clean_columns(car_df):\n",
    "     return [\"state\" if column == \"ST\" else column.lower().replace(\" \", \"_\") for column in car_df.columns]\n",
    "\n",
    "def standardize_gender(car_df):\n",
    "    return car_df[\"gender\"].apply(lambda x: \"F\" if x == \"F\" or x == \"Femal\" or x == \"female\" else \"M\")\n",
    "\n",
    "def standardize_states(car_df):\n",
    "    states_mapping = {\n",
    "    \"Washington\" : \"Washington\",\n",
    "    \"Arizona\" : \"Arizona\",\n",
    "    \"Nevada\" : \"Nevada\",\n",
    "    \"California\" : \"California\",\n",
    "    \"Oregon\" : \"Oregon\",\n",
    "    \"Cali\" : \"California\",\n",
    "    \"AZ\" : \"Arizona\",\n",
    "    \"WA\" : \"Washington\"\n",
    "    }\n",
    "    return car_df.state.map(states_mapping)\n",
    "\n",
    "def standardize_education(car_df):\n",
    "     return car_df.education.apply(lambda x: \"Bachelor\" if x == \"Bachelors\" else x)\n",
    "\n",
    "def standardize_customer_lifetime_value(car_df):\n",
    "    car_df.customer_lifetime_value = car_df.customer_lifetime_value.apply(lambda x: float(str(x).replace(\"%\",\"\")))\n",
    "    car_df.customer_lifetime_value = car_df.customer_lifetime_value.apply(lambda x: float(x))\n",
    "    return car_df.customer_lifetime_value\n",
    "\n",
    "def standardize_vehicle_class(car_df):\n",
    "    luxury_mapping = {\n",
    "    \"Sports Car\" : \"Luxury\",\n",
    "    \"Luxury SUV\" : \"Luxury\",\n",
    "    \"Luxury Car\" : \"Luxury\",\n",
    "    \"Four-Door Car\" : \"Four-Door Car\",\n",
    "    \"Two-Door Car\" : \"Two-Door Car\",\n",
    "    \"SUV\" : \"SUV\"\n",
    "    }\n",
    "    return car_df.vehicle_class.map(luxury_mapping)\n",
    "\n",
    "def format_complaints(car_df):\n",
    "    return car_df.number_of_open_complaints.apply(lambda x: int((format(x).split(\"/\"))[1]) if isinstance(x,str) else x)\n",
    "\n",
    "def clean_nulls(car_df):\n",
    "    car_df.dropna(how='all', inplace=True)\n",
    "    car_df.dropna(thresh=2, inplace=True)\n",
    "    car_df.customer_lifetime_value.fillna(car_df.customer_lifetime_value.mean(), inplace=True)\n",
    "    return car_df\n",
    "\n",
    "def make_numerics_nums(car_df):\n",
    "    return car_df.select_dtypes(include='number').astype(int)"
   ]
  },
  {
   "cell_type": "code",
   "execution_count": 48,
   "id": "4b6c12cd-8d74-4f26-a538-c94fab4094fb",
   "metadata": {},
   "outputs": [
    {
     "name": "stderr",
     "output_type": "stream",
     "text": [
      "/var/folders/3j/f7d6p9t136x34vdmdy30wrrc0000gn/T/ipykernel_11643/322098349.py:64: FutureWarning: A value is trying to be set on a copy of a DataFrame or Series through chained assignment using an inplace method.\n",
      "The behavior will change in pandas 3.0. This inplace method will never work because the intermediate object on which we are setting values always behaves as a copy.\n",
      "\n",
      "For example, when doing 'df[col].method(value, inplace=True)', try using 'df.method({col: value}, inplace=True)' or df[col] = df[col].method(value) instead, to perform the operation inplace on the original object.\n",
      "\n",
      "\n",
      "  car_df.customer_lifetime_value.fillna(car_df.customer_lifetime_value.mean(), inplace=True)\n",
      "/var/folders/3j/f7d6p9t136x34vdmdy30wrrc0000gn/T/ipykernel_11643/322098349.py:64: FutureWarning: A value is trying to be set on a copy of a DataFrame or Series through chained assignment using an inplace method.\n",
      "The behavior will change in pandas 3.0. This inplace method will never work because the intermediate object on which we are setting values always behaves as a copy.\n",
      "\n",
      "For example, when doing 'df[col].method(value, inplace=True)', try using 'df.method({col: value}, inplace=True)' or df[col] = df[col].method(value) instead, to perform the operation inplace on the original object.\n",
      "\n",
      "\n",
      "  car_df.customer_lifetime_value.fillna(car_df.customer_lifetime_value.mean(), inplace=True)\n",
      "/var/folders/3j/f7d6p9t136x34vdmdy30wrrc0000gn/T/ipykernel_11643/322098349.py:64: FutureWarning: A value is trying to be set on a copy of a DataFrame or Series through chained assignment using an inplace method.\n",
      "The behavior will change in pandas 3.0. This inplace method will never work because the intermediate object on which we are setting values always behaves as a copy.\n",
      "\n",
      "For example, when doing 'df[col].method(value, inplace=True)', try using 'df.method({col: value}, inplace=True)' or df[col] = df[col].method(value) instead, to perform the operation inplace on the original object.\n",
      "\n",
      "\n",
      "  car_df.customer_lifetime_value.fillna(car_df.customer_lifetime_value.mean(), inplace=True)\n"
     ]
    }
   ],
   "source": [
    "df1 = cleandf(df1)\n",
    "df2 = cleandf(df2)\n",
    "df3 = cleandf(df3)"
   ]
  },
  {
   "cell_type": "code",
   "execution_count": 49,
   "id": "ca037169-3914-42bf-92be-8d481dc60c10",
   "metadata": {},
   "outputs": [],
   "source": [
    "car_df = pd.concat([df1,df2,df3])"
   ]
  },
  {
   "cell_type": "code",
   "execution_count": 50,
   "id": "f472c4ff-2cbb-4b79-8c42-aa576c581dc5",
   "metadata": {
    "scrolled": true
   },
   "outputs": [
    {
     "data": {
      "text/html": [
       "<div>\n",
       "<style scoped>\n",
       "    .dataframe tbody tr th:only-of-type {\n",
       "        vertical-align: middle;\n",
       "    }\n",
       "\n",
       "    .dataframe tbody tr th {\n",
       "        vertical-align: top;\n",
       "    }\n",
       "\n",
       "    .dataframe thead th {\n",
       "        text-align: right;\n",
       "    }\n",
       "</style>\n",
       "<table border=\"1\" class=\"dataframe\">\n",
       "  <thead>\n",
       "    <tr style=\"text-align: right;\">\n",
       "      <th></th>\n",
       "      <th>customer</th>\n",
       "      <th>state</th>\n",
       "      <th>gender</th>\n",
       "      <th>education</th>\n",
       "      <th>customer_lifetime_value</th>\n",
       "      <th>income</th>\n",
       "      <th>monthly_premium_auto</th>\n",
       "      <th>number_of_open_complaints</th>\n",
       "      <th>policy_type</th>\n",
       "      <th>vehicle_class</th>\n",
       "      <th>total_claim_amount</th>\n",
       "    </tr>\n",
       "  </thead>\n",
       "  <tbody>\n",
       "    <tr>\n",
       "      <th>0</th>\n",
       "      <td>RB50392</td>\n",
       "      <td>Washington</td>\n",
       "      <td>M</td>\n",
       "      <td>Master</td>\n",
       "      <td>793690</td>\n",
       "      <td>0</td>\n",
       "      <td>1000</td>\n",
       "      <td>0</td>\n",
       "      <td>Personal Auto</td>\n",
       "      <td>Four-Door Car</td>\n",
       "      <td>2</td>\n",
       "    </tr>\n",
       "    <tr>\n",
       "      <th>1</th>\n",
       "      <td>QZ44356</td>\n",
       "      <td>Arizona</td>\n",
       "      <td>F</td>\n",
       "      <td>Bachelor</td>\n",
       "      <td>697953</td>\n",
       "      <td>0</td>\n",
       "      <td>94</td>\n",
       "      <td>0</td>\n",
       "      <td>Personal Auto</td>\n",
       "      <td>Four-Door Car</td>\n",
       "      <td>1131</td>\n",
       "    </tr>\n",
       "    <tr>\n",
       "      <th>2</th>\n",
       "      <td>AI49188</td>\n",
       "      <td>Nevada</td>\n",
       "      <td>F</td>\n",
       "      <td>Bachelor</td>\n",
       "      <td>1288743</td>\n",
       "      <td>48767</td>\n",
       "      <td>108</td>\n",
       "      <td>0</td>\n",
       "      <td>Personal Auto</td>\n",
       "      <td>Two-Door Car</td>\n",
       "      <td>566</td>\n",
       "    </tr>\n",
       "    <tr>\n",
       "      <th>3</th>\n",
       "      <td>WW63253</td>\n",
       "      <td>California</td>\n",
       "      <td>M</td>\n",
       "      <td>Bachelor</td>\n",
       "      <td>764586</td>\n",
       "      <td>0</td>\n",
       "      <td>106</td>\n",
       "      <td>0</td>\n",
       "      <td>Corporate Auto</td>\n",
       "      <td>SUV</td>\n",
       "      <td>529</td>\n",
       "    </tr>\n",
       "    <tr>\n",
       "      <th>4</th>\n",
       "      <td>GA49547</td>\n",
       "      <td>Washington</td>\n",
       "      <td>M</td>\n",
       "      <td>High School or Below</td>\n",
       "      <td>536307</td>\n",
       "      <td>36357</td>\n",
       "      <td>68</td>\n",
       "      <td>0</td>\n",
       "      <td>Personal Auto</td>\n",
       "      <td>Four-Door Car</td>\n",
       "      <td>17</td>\n",
       "    </tr>\n",
       "    <tr>\n",
       "      <th>...</th>\n",
       "      <td>...</td>\n",
       "      <td>...</td>\n",
       "      <td>...</td>\n",
       "      <td>...</td>\n",
       "      <td>...</td>\n",
       "      <td>...</td>\n",
       "      <td>...</td>\n",
       "      <td>...</td>\n",
       "      <td>...</td>\n",
       "      <td>...</td>\n",
       "      <td>...</td>\n",
       "    </tr>\n",
       "    <tr>\n",
       "      <th>7065</th>\n",
       "      <td>LA72316</td>\n",
       "      <td>California</td>\n",
       "      <td>M</td>\n",
       "      <td>Bachelor</td>\n",
       "      <td>23405</td>\n",
       "      <td>71941</td>\n",
       "      <td>73</td>\n",
       "      <td>0</td>\n",
       "      <td>Personal Auto</td>\n",
       "      <td>Four-Door Car</td>\n",
       "      <td>198</td>\n",
       "    </tr>\n",
       "    <tr>\n",
       "      <th>7066</th>\n",
       "      <td>PK87824</td>\n",
       "      <td>California</td>\n",
       "      <td>F</td>\n",
       "      <td>College</td>\n",
       "      <td>3096</td>\n",
       "      <td>21604</td>\n",
       "      <td>79</td>\n",
       "      <td>0</td>\n",
       "      <td>Corporate Auto</td>\n",
       "      <td>Four-Door Car</td>\n",
       "      <td>379</td>\n",
       "    </tr>\n",
       "    <tr>\n",
       "      <th>7067</th>\n",
       "      <td>TD14365</td>\n",
       "      <td>California</td>\n",
       "      <td>M</td>\n",
       "      <td>Bachelor</td>\n",
       "      <td>8163</td>\n",
       "      <td>0</td>\n",
       "      <td>85</td>\n",
       "      <td>3</td>\n",
       "      <td>Corporate Auto</td>\n",
       "      <td>Four-Door Car</td>\n",
       "      <td>790</td>\n",
       "    </tr>\n",
       "    <tr>\n",
       "      <th>7068</th>\n",
       "      <td>UP19263</td>\n",
       "      <td>California</td>\n",
       "      <td>M</td>\n",
       "      <td>College</td>\n",
       "      <td>7524</td>\n",
       "      <td>21941</td>\n",
       "      <td>96</td>\n",
       "      <td>0</td>\n",
       "      <td>Personal Auto</td>\n",
       "      <td>Four-Door Car</td>\n",
       "      <td>691</td>\n",
       "    </tr>\n",
       "    <tr>\n",
       "      <th>7069</th>\n",
       "      <td>Y167826</td>\n",
       "      <td>California</td>\n",
       "      <td>M</td>\n",
       "      <td>College</td>\n",
       "      <td>2611</td>\n",
       "      <td>0</td>\n",
       "      <td>77</td>\n",
       "      <td>0</td>\n",
       "      <td>Corporate Auto</td>\n",
       "      <td>Two-Door Car</td>\n",
       "      <td>369</td>\n",
       "    </tr>\n",
       "  </tbody>\n",
       "</table>\n",
       "<p>9137 rows × 11 columns</p>\n",
       "</div>"
      ],
      "text/plain": [
       "     customer       state gender             education  \\\n",
       "0     RB50392  Washington      M                Master   \n",
       "1     QZ44356     Arizona      F              Bachelor   \n",
       "2     AI49188      Nevada      F              Bachelor   \n",
       "3     WW63253  California      M              Bachelor   \n",
       "4     GA49547  Washington      M  High School or Below   \n",
       "...       ...         ...    ...                   ...   \n",
       "7065  LA72316  California      M              Bachelor   \n",
       "7066  PK87824  California      F               College   \n",
       "7067  TD14365  California      M              Bachelor   \n",
       "7068  UP19263  California      M               College   \n",
       "7069  Y167826  California      M               College   \n",
       "\n",
       "      customer_lifetime_value  income  monthly_premium_auto  \\\n",
       "0                      793690       0                  1000   \n",
       "1                      697953       0                    94   \n",
       "2                     1288743   48767                   108   \n",
       "3                      764586       0                   106   \n",
       "4                      536307   36357                    68   \n",
       "...                       ...     ...                   ...   \n",
       "7065                    23405   71941                    73   \n",
       "7066                     3096   21604                    79   \n",
       "7067                     8163       0                    85   \n",
       "7068                     7524   21941                    96   \n",
       "7069                     2611       0                    77   \n",
       "\n",
       "      number_of_open_complaints     policy_type  vehicle_class  \\\n",
       "0                             0   Personal Auto  Four-Door Car   \n",
       "1                             0   Personal Auto  Four-Door Car   \n",
       "2                             0   Personal Auto   Two-Door Car   \n",
       "3                             0  Corporate Auto            SUV   \n",
       "4                             0   Personal Auto  Four-Door Car   \n",
       "...                         ...             ...            ...   \n",
       "7065                          0   Personal Auto  Four-Door Car   \n",
       "7066                          0  Corporate Auto  Four-Door Car   \n",
       "7067                          3  Corporate Auto  Four-Door Car   \n",
       "7068                          0   Personal Auto  Four-Door Car   \n",
       "7069                          0  Corporate Auto   Two-Door Car   \n",
       "\n",
       "      total_claim_amount  \n",
       "0                      2  \n",
       "1                   1131  \n",
       "2                    566  \n",
       "3                    529  \n",
       "4                     17  \n",
       "...                  ...  \n",
       "7065                 198  \n",
       "7066                 379  \n",
       "7067                 790  \n",
       "7068                 691  \n",
       "7069                 369  \n",
       "\n",
       "[9137 rows x 11 columns]"
      ]
     },
     "execution_count": 50,
     "metadata": {},
     "output_type": "execute_result"
    }
   ],
   "source": [
    "car_df"
   ]
  },
  {
   "cell_type": "markdown",
   "id": "31b8a9e7-7db9-4604-991b-ef6771603e57",
   "metadata": {
    "id": "31b8a9e7-7db9-4604-991b-ef6771603e57"
   },
   "source": [
    "# Challenge 2: Structuring Data"
   ]
  },
  {
   "cell_type": "markdown",
   "id": "a877fd6d-7a0c-46d2-9657-f25036e4ca4b",
   "metadata": {
    "id": "a877fd6d-7a0c-46d2-9657-f25036e4ca4b"
   },
   "source": [
    "In this challenge, we will continue to work with customer data from an insurance company, but we will use a dataset with more columns, called marketing_customer_analysis.csv, which can be found at the following link:\n",
    "\n",
    "https://raw.githubusercontent.com/data-bootcamp-v4/data/main/marketing_customer_analysis_clean.csv\n",
    "\n",
    "This dataset contains information such as customer demographics, policy details, vehicle information, and the customer's response to the last marketing campaign. Our goal is to explore and analyze this data by performing data cleaning, formatting, and structuring."
   ]
  },
  {
   "cell_type": "code",
   "execution_count": 3,
   "id": "aa10d9b0-1c27-4d3f-a8e4-db6ab73bfd26",
   "metadata": {
    "id": "aa10d9b0-1c27-4d3f-a8e4-db6ab73bfd26",
    "scrolled": true
   },
   "outputs": [],
   "source": [
    "marketing_df = pd.read_csv(\"https://raw.githubusercontent.com/data-bootcamp-v4/data/main/marketing_customer_analysis_clean.csv\")\n",
    "marketing_df = marketing_df.drop(columns=[\"unnamed:_0\"])"
   ]
  },
  {
   "cell_type": "code",
   "execution_count": 57,
   "id": "3a236109-9da9-4cb4-a069-4f896a74a07b",
   "metadata": {},
   "outputs": [
    {
     "data": {
      "text/plain": [
       "Index(['unnamed:_0', 'customer', 'state', 'customer_lifetime_value',\n",
       "       'response', 'coverage', 'education', 'effective_to_date',\n",
       "       'employmentstatus', 'gender', 'income', 'location_code',\n",
       "       'marital_status', 'monthly_premium_auto', 'months_since_last_claim',\n",
       "       'months_since_policy_inception', 'number_of_open_complaints',\n",
       "       'number_of_policies', 'policy_type', 'policy', 'renew_offer_type',\n",
       "       'sales_channel', 'total_claim_amount', 'vehicle_class', 'vehicle_size',\n",
       "       'vehicle_type', 'month'],\n",
       "      dtype='object')"
      ]
     },
     "execution_count": 57,
     "metadata": {},
     "output_type": "execute_result"
    }
   ],
   "source": [
    "marketing_df.columns"
   ]
  },
  {
   "cell_type": "code",
   "execution_count": 81,
   "id": "5d8c2512-3684-4ff6-a8b6-512907915478",
   "metadata": {
    "scrolled": true
   },
   "outputs": [
    {
     "data": {
      "text/plain": [
       "Index(['customer', 'state', 'customer_lifetime_value', 'response', 'coverage',\n",
       "       'education', 'effective_to_date', 'employmentstatus', 'gender',\n",
       "       'income', 'location_code', 'marital_status', 'monthly_premium_auto',\n",
       "       'months_since_last_claim', 'months_since_policy_inception',\n",
       "       'number_of_open_complaints', 'number_of_policies', 'policy_type',\n",
       "       'policy', 'renew_offer_type', 'sales_channel', 'total_claim_amount',\n",
       "       'vehicle_class', 'vehicle_size', 'vehicle_type', 'month'],\n",
       "      dtype='object')"
      ]
     },
     "execution_count": 81,
     "metadata": {},
     "output_type": "execute_result"
    }
   ],
   "source": [
    "marketing_df.drop(columns=[\"unnamed:_0\"]).columns"
   ]
  },
  {
   "cell_type": "code",
   "execution_count": 63,
   "id": "2123e982-3e4f-4df3-8433-a2631ab7772c",
   "metadata": {},
   "outputs": [
    {
     "data": {
      "text/plain": [
       "unnamed:_0                         int64\n",
       "customer                          object\n",
       "state                             object\n",
       "customer_lifetime_value          float64\n",
       "response                          object\n",
       "coverage                          object\n",
       "education                         object\n",
       "effective_to_date                 object\n",
       "employmentstatus                  object\n",
       "gender                            object\n",
       "income                             int64\n",
       "location_code                     object\n",
       "marital_status                    object\n",
       "monthly_premium_auto               int64\n",
       "months_since_last_claim          float64\n",
       "months_since_policy_inception      int64\n",
       "number_of_open_complaints        float64\n",
       "number_of_policies                 int64\n",
       "policy_type                       object\n",
       "policy                            object\n",
       "renew_offer_type                  object\n",
       "sales_channel                     object\n",
       "total_claim_amount               float64\n",
       "vehicle_class                     object\n",
       "vehicle_size                      object\n",
       "vehicle_type                      object\n",
       "month                              int64\n",
       "dtype: object"
      ]
     },
     "execution_count": 63,
     "metadata": {},
     "output_type": "execute_result"
    }
   ],
   "source": [
    "marketing_df.dtypes"
   ]
  },
  {
   "cell_type": "markdown",
   "id": "df35fd0d-513e-4e77-867e-429da10a9cc7",
   "metadata": {
    "id": "df35fd0d-513e-4e77-867e-429da10a9cc7"
   },
   "source": [
    "1. You work at the marketing department and you want to know which sales channel brought the most sales in terms of total revenue. Using pivot, create a summary table showing the total revenue for each sales channel (branch, call center, web, and mail).\n",
    "Round the total revenue to 2 decimal points.  Analyze the resulting table to draw insights."
   ]
  },
  {
   "cell_type": "code",
   "execution_count": 4,
   "id": "52705c4c-6cb5-41fa-99c5-bccbf5505355",
   "metadata": {},
   "outputs": [
    {
     "data": {
      "text/plain": [
       "sales_channel\n",
       "Agent          386335\n",
       "Branch         280953\n",
       "Call Center    197970\n",
       "Web            151511\n",
       "Name: monthly_premium_auto, dtype: int64"
      ]
     },
     "execution_count": 4,
     "metadata": {},
     "output_type": "execute_result"
    }
   ],
   "source": [
    "revenue_per_channel = round((marketing_df.groupby(\"sales_channel\")[\"monthly_premium_auto\"].sum()), 2)\n",
    "revenue_per_channel"
   ]
  },
  {
   "cell_type": "markdown",
   "id": "640993b2-a291-436c-a34d-a551144f8196",
   "metadata": {
    "id": "640993b2-a291-436c-a34d-a551144f8196"
   },
   "source": [
    "2. Create a pivot table that shows the average customer lifetime value per gender and education level. Analyze the resulting table to draw insights."
   ]
  },
  {
   "cell_type": "code",
   "execution_count": 12,
   "id": "85f14f71-e75a-40b4-b690-ef3e9c2cad1e",
   "metadata": {},
   "outputs": [
    {
     "data": {
      "text/plain": [
       "gender  education           \n",
       "F       Bachelor                7874.27\n",
       "        College                 7748.82\n",
       "        Doctor                  7328.51\n",
       "        High School or Below    8675.22\n",
       "        Master                  8157.05\n",
       "M       Bachelor                7703.60\n",
       "        College                 8052.46\n",
       "        Doctor                  7415.33\n",
       "        High School or Below    8149.69\n",
       "        Master                  8168.83\n",
       "Name: customer_lifetime_value, dtype: float64"
      ]
     },
     "execution_count": 12,
     "metadata": {},
     "output_type": "execute_result"
    }
   ],
   "source": [
    "avg_clv_per_gender_education = round((marketing_df.groupby([\"gender\", \"education\"])[\"customer_lifetime_value\"].mean()), 2)\n",
    "avg_clv_per_gender_education"
   ]
  },
  {
   "cell_type": "markdown",
   "id": "32c7f2e5-3d90-43e5-be33-9781b6069198",
   "metadata": {
    "id": "32c7f2e5-3d90-43e5-be33-9781b6069198"
   },
   "source": [
    "## Bonus\n",
    "\n",
    "You work at the customer service department and you want to know which months had the highest number of complaints by policy type category. Create a summary table showing the number of complaints by policy type and month.\n",
    "Show it in a long format table."
   ]
  },
  {
   "cell_type": "markdown",
   "id": "e3d09a8f-953c-448a-a5f8-2e5a8cca7291",
   "metadata": {
    "id": "e3d09a8f-953c-448a-a5f8-2e5a8cca7291"
   },
   "source": [
    "*In data analysis, a long format table is a way of structuring data in which each observation or measurement is stored in a separate row of the table. The key characteristic of a long format table is that each column represents a single variable, and each row represents a single observation of that variable.*\n",
    "\n",
    "*More information about long and wide format tables here: https://www.statology.org/long-vs-wide-data/*"
   ]
  },
  {
   "cell_type": "code",
   "execution_count": 80,
   "id": "3a069e0b-b400-470e-904d-d17582191be4",
   "metadata": {
    "id": "3a069e0b-b400-470e-904d-d17582191be4"
   },
   "outputs": [
    {
     "data": {
      "text/html": [
       "<div>\n",
       "<style scoped>\n",
       "    .dataframe tbody tr th:only-of-type {\n",
       "        vertical-align: middle;\n",
       "    }\n",
       "\n",
       "    .dataframe tbody tr th {\n",
       "        vertical-align: top;\n",
       "    }\n",
       "\n",
       "    .dataframe thead th {\n",
       "        text-align: right;\n",
       "    }\n",
       "</style>\n",
       "<table border=\"1\" class=\"dataframe\">\n",
       "  <thead>\n",
       "    <tr style=\"text-align: right;\">\n",
       "      <th></th>\n",
       "      <th></th>\n",
       "      <th>number_of_open_complaints</th>\n",
       "    </tr>\n",
       "    <tr>\n",
       "      <th>policy_type</th>\n",
       "      <th>month</th>\n",
       "      <th></th>\n",
       "    </tr>\n",
       "  </thead>\n",
       "  <tbody>\n",
       "    <tr>\n",
       "      <th rowspan=\"2\" valign=\"top\">Corporate Auto</th>\n",
       "      <th>1</th>\n",
       "      <td>443.434952</td>\n",
       "    </tr>\n",
       "    <tr>\n",
       "      <th>2</th>\n",
       "      <td>385.208135</td>\n",
       "    </tr>\n",
       "    <tr>\n",
       "      <th rowspan=\"2\" valign=\"top\">Personal Auto</th>\n",
       "      <th>1</th>\n",
       "      <td>1727.605722</td>\n",
       "    </tr>\n",
       "    <tr>\n",
       "      <th>2</th>\n",
       "      <td>1453.684441</td>\n",
       "    </tr>\n",
       "    <tr>\n",
       "      <th rowspan=\"2\" valign=\"top\">Special Auto</th>\n",
       "      <th>1</th>\n",
       "      <td>87.074049</td>\n",
       "    </tr>\n",
       "    <tr>\n",
       "      <th>2</th>\n",
       "      <td>95.226817</td>\n",
       "    </tr>\n",
       "  </tbody>\n",
       "</table>\n",
       "</div>"
      ],
      "text/plain": [
       "                      number_of_open_complaints\n",
       "policy_type    month                           \n",
       "Corporate Auto 1                     443.434952\n",
       "               2                     385.208135\n",
       "Personal Auto  1                    1727.605722\n",
       "               2                    1453.684441\n",
       "Special Auto   1                      87.074049\n",
       "               2                      95.226817"
      ]
     },
     "execution_count": 80,
     "metadata": {},
     "output_type": "execute_result"
    }
   ],
   "source": [
    "pd.DataFrame(marketing_df.groupby([\"policy_type\", \"month\"])[\"number_of_open_complaints\"].sum())"
   ]
  }
 ],
 "metadata": {
  "colab": {
   "provenance": []
  },
  "kernelspec": {
   "display_name": "Python [conda env:base] *",
   "language": "python",
   "name": "conda-base-py"
  },
  "language_info": {
   "codemirror_mode": {
    "name": "ipython",
    "version": 3
   },
   "file_extension": ".py",
   "mimetype": "text/x-python",
   "name": "python",
   "nbconvert_exporter": "python",
   "pygments_lexer": "ipython3",
   "version": "3.12.7"
  }
 },
 "nbformat": 4,
 "nbformat_minor": 5
}
